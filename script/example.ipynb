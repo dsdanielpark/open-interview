{
 "cells": [
  {
   "cell_type": "code",
   "execution_count": null,
   "metadata": {},
   "outputs": [],
   "source": [
    "!pip install open-interview"
   ]
  },
  {
   "cell_type": "markdown",
   "metadata": {},
   "source": [
    "# Welcom to `Open-Interview` tutorial"
   ]
  },
  {
   "cell_type": "markdown",
   "metadata": {},
   "source": [
    "\n",
    "\n",
    "- **Installation**: Install the `open-interview` package using pip or clone the repository from GitHub.\n",
    "- **Quick Start**:\n",
    "  - Use `InterviewManager` to generate interview content with minimal setup.\n",
    "  - Use either Claude or GPT models by providing the respective API keys.\n",
    "- **Playing Random Question Audio**: Create an instance of `RandomPlayer` to play random question audio files.\n",
    "- **Usage**: Refer to the Usage example code document for detailed examples using InterviewGPT and InterviewClaude.\n",
    "- **FAQ & Support**: Visit the FAQ and Issues pages for support and contribute to the project on GitHub.\n",
    "- **License**: The project is licensed under Apache 2.0.\n"
   ]
  },
  {
   "cell_type": "markdown",
   "metadata": {},
   "source": [
    "## Anthropic - Claude"
   ]
  },
  {
   "cell_type": "code",
   "execution_count": null,
   "metadata": {},
   "outputs": [],
   "source": [
    "from openinterview import InterviewManager\n",
    "\n",
    "# Set API token \n",
    "claudeToken = \"sk-xxxxxxxxx\"\n",
    "claude_interview_manager = InterviewManager(api_key=claudeToken, engine= \"Claude\")\n",
    "\n",
    "# Set your profile\n",
    "jd = \"\"\"\n",
    "This role demands a deep enthusiasm for AI development.\n",
    "\"\"\"\n",
    "resume = \"\"\"\n",
    "I'm a passionate AI engineer.\n",
    "https://github.com/dsdanielpark\n",
    "\"\"\"\n",
    "position = \"AI Researcher\"\n",
    "interview_type = \"techQAsFromResume\"\n",
    "language = \"English\"\n",
    "max_sentence = 5\n",
    "output_dir = \"output\"\n",
    "\n",
    "# Generate QA, Document, and Audio files\n",
    "claude_interview_manager.generate_interview(\n",
    "    jd=jd,\n",
    "    resume=resume,\n",
    "    position=position,\n",
    "    interview_type=interview_type,\n",
    "    language=language,\n",
    "    max_sentence=max_sentence,\n",
    "    output_dir=output_dir,\n",
    "    iteration=1,\n",
    ")\n"
   ]
  },
  {
   "cell_type": "markdown",
   "metadata": {},
   "source": [
    "### Step-by-Step"
   ]
  },
  {
   "cell_type": "code",
   "execution_count": null,
   "metadata": {},
   "outputs": [],
   "source": [
    "from openinterview import InterviewClaude\n",
    "\n",
    "# Set API token \n",
    "claudeToken = \"sk-xxxxxxxx\"\n",
    "gpt_interviewer = InterviewClaude(api_key=claudeToken)\n",
    "\n",
    "# Set your profile\n",
    "jd = \"\"\"\n",
    "This role demands a deep enthusiasm for AI development.\n",
    "\"\"\"\n",
    "resume = \"\"\"\n",
    "I'm a passionate AI engineer.\n",
    "https://github.com/dsdanielpark\n",
    "\"\"\"\n",
    "position = \"AI Researcher\"\n",
    "interview_type = \"techQAsFromResume\"\n",
    "language = \"English\"\n",
    "max_sentence = 5\n",
    "output_dir = \"output\"\n",
    "\n",
    "\n",
    "# [Optional] 1. You can make your own system prompt\n",
    "system_prompt = InterviewClaude.create_system_prompt(\n",
    "    jd=jd,\n",
    "    candidate_resume=resume,\n",
    "    position=\"AI Researcher\",\n",
    "    interview_type=\"techQAsFromResume\",\n",
    "    language=\"English\",\n",
    "    max_sentence=6\n",
    ")\n",
    "# [Optional] 2. You can make your own user prompt\n",
    "user_prompt = InterviewClaude.create_base_prompt(\"generateQAs\")\n",
    "\n",
    "# Generate interview content\n",
    "generated_qa_dict = gpt_interviewer.generate_interview_content(\n",
    "    system_prompt=system_prompt,\n",
    "    user_prompt=user_prompt,\n",
    "    iteration=1,\n",
    "    save_dir=\"openinterview_claude/generated_qa\"\n",
    ")\n",
    "\n",
    "# [Optional] 3. Make *.docx documents\n",
    "from openinterview import DocumentCreator\n",
    "\n",
    "interview_coach = DocumentCreator()\n",
    "interview_coach.create_qa_document(generated_qa_dict, \"TeamViewer15\", 11, \"openinterview_claude/document\")\n",
    "\n",
    "# [Optional] 4. Make Text to Speech\n",
    "from openinterview import save_google_tts\n",
    "\n",
    "save_google_tts(generated_qa_dict, \"openinterview_claude/voice\")\n",
    "\n"
   ]
  },
  {
   "cell_type": "code",
   "execution_count": null,
   "metadata": {},
   "outputs": [],
   "source": [
    "\n",
    "# [Optional] 5. Play audio randomly\n",
    "from openinterview import RandomPlayer\n",
    "\n",
    "player = RandomPlayer(directory=\"openinterview_claude\", interval=120) # Pass the path the question.mp3 is existed.\n",
    "player.play_random_mp3()\n"
   ]
  },
  {
   "cell_type": "markdown",
   "metadata": {},
   "source": [
    "## Open AI - GPT"
   ]
  },
  {
   "cell_type": "code",
   "execution_count": null,
   "metadata": {},
   "outputs": [],
   "source": [
    "import openai\n",
    "from openinterview import InterviewManager\n",
    "\n",
    "# Set API token \n",
    "openai.api_key = \"sk-xxxxxxxxx\"\n",
    "gpt_interview_manager = InterviewManager(api_key=openai.api_key, engine= \"GPT\")\n",
    "\n",
    "# Set your profile\n",
    "jd = \"\"\"\n",
    "This role demands a deep enthusiasm for AI development.\n",
    "\"\"\"\n",
    "resume = \"\"\"\n",
    "I'm a passionate AI engineer.\n",
    "https://github.com/dsdanielpark\n",
    "\"\"\"\n",
    "position = \"AI Researcher\"\n",
    "interview_type = \"techQAsFromResume\"\n",
    "language = \"English\"\n",
    "max_sentence = 5\n",
    "output_dir = \"output\"\n",
    "\n",
    "# Generate QA, Document, and Audio files\n",
    "gpt_interview_manager.generate_interview(\n",
    "    jd=jd,\n",
    "    resume=resume,\n",
    "    position=position,\n",
    "    interview_type=interview_type,\n",
    "    language=language,\n",
    "    max_sentence=max_sentence,\n",
    "    output_dir=output_dir,\n",
    "    iteration=1,\n",
    ")"
   ]
  },
  {
   "cell_type": "markdown",
   "metadata": {},
   "source": [
    "### Step-by-Step"
   ]
  },
  {
   "cell_type": "code",
   "execution_count": null,
   "metadata": {},
   "outputs": [],
   "source": [
    "from openinterview import InterviewGPT\n",
    "import openai\n",
    "\n",
    "# Set API token\n",
    "openai.api_key = \"sk-xxxxxxxxxx\"\n",
    "gpt_interviewer = InterviewGPT(api_key=openai.api_key)\n",
    "\n",
    "# Set your profile\n",
    "jd = \"\"\"\n",
    "This role demands a deep enthusiasm for AI development.\n",
    "\"\"\"\n",
    "resume = \"\"\"\n",
    "I'm a passionate AI engineer.\n",
    "https://github.com/dsdanielpark\n",
    "\"\"\"\n",
    "position = \"AI Researcher\"\n",
    "interview_type = \"techQAsFromResume\"\n",
    "language = \"English\"\n",
    "max_sentence = 5\n",
    "output_dir = \"output\"\n",
    "\n",
    "# [Optional] 1. You can make your own system prompt\n",
    "system_prompt = InterviewGPT.create_system_prompt(\n",
    "    jd=jd,\n",
    "    candidate_resume=resume,\n",
    "    position=position\",\n",
    "    interview_type=interview_type,\n",
    "    language=language,\n",
    "    max_sentence=max_sentence,\n",
    ")\n",
    "\n",
    "# [Optional] 2. You can make your own user prompt\n",
    "user_prompt = InterviewGPT.create_base_prompt(\"generateQAs\")\n",
    "\n",
    "# Generate interview content\n",
    "generated_qa_dict = gpt_interviewer.generate_interview_content(\n",
    "    system_prompt=system_prompt,\n",
    "    user_prompt=user_prompt,\n",
    "    iteration=1,\n",
    "    save_dir=output_dir\n",
    ")\n",
    "\n",
    "# [Optional] 3.Make *.docx documents\n",
    "from openinterview import DocumentCreator\n",
    "\n",
    "interview_coach = DocumentCreator()\n",
    "interview_coach.create_qa_document(generated_qa_dict, \"TeamViewer15\", 11, \"openinterview_gpt/document\")\n",
    "\n",
    "# [Optional] 4. Make Text to Speech\n",
    "from openinterview import save_google_tts\n",
    "\n",
    "save_google_tts(generated_qa_dict, \"openinterview_gpt/voice\")\n"
   ]
  },
  {
   "cell_type": "code",
   "execution_count": null,
   "metadata": {},
   "outputs": [],
   "source": [
    "\n",
    "# [Optional] 5. Play audio randomly\n",
    "from openinterview import RandomPlayer\n",
    "\n",
    "player = RandomPlayer(directory=\"openinterview_gpt\", interval=120) # Pass the path the question.mp3 is existed.\n",
    "player.play_random_mp3()"
   ]
  }
 ],
 "metadata": {
  "kernelspec": {
   "display_name": "Python 3",
   "language": "python",
   "name": "python3"
  },
  "language_info": {
   "codemirror_mode": {
    "name": "ipython",
    "version": 3
   },
   "file_extension": ".py",
   "mimetype": "text/x-python",
   "name": "python",
   "nbconvert_exporter": "python",
   "pygments_lexer": "ipython3",
   "version": "3.9.16"
  }
 },
 "nbformat": 4,
 "nbformat_minor": 2
}
